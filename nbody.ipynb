{
 "cells": [
  {
   "cell_type": "code",
   "execution_count": 1,
   "metadata": {
    "collapsed": true
   },
   "outputs": [],
   "source": [
    "from nbody import *\n",
    "from nbody_1 import *\n",
    "from nbody_2 import *\n",
    "from nbody_3 import *\n",
    "from nbody_4 import *\n",
    "from nbody_opt import *\n",
    "from time import clock"
   ]
  },
  {
   "cell_type": "code",
   "execution_count": null,
   "metadata": {
    "collapsed": true
   },
   "outputs": [],
   "source": [
    "start = clock()\n",
    "nbody(100, 'sun', 20000)\n",
    "end = clock()\n",
    "print(\"nbody: \",end - start)"
   ]
  },
  {
   "cell_type": "code",
   "execution_count": null,
   "metadata": {
    "collapsed": true
   },
   "outputs": [],
   "source": [
    "start = clock()\n",
    "nbody_1(100, 'sun', 20000)\n",
    "end = clock()\n",
    "print(\"nbody_1: \",end - start)"
   ]
  },
  {
   "cell_type": "code",
   "execution_count": null,
   "metadata": {
    "collapsed": true
   },
   "outputs": [],
   "source": [
    "start = clock()\n",
    "nbody_2(100, 'sun', 20000)\n",
    "end = clock()\n",
    "print(\"nbody_2: \",end - start)"
   ]
  },
  {
   "cell_type": "code",
   "execution_count": null,
   "metadata": {
    "collapsed": true
   },
   "outputs": [],
   "source": [
    "start = clock()\n",
    "nbody_3(100, 'sun', 20000)\n",
    "end = clock()\n",
    "print(\"nbody_3: \",end - start)"
   ]
  },
  {
   "cell_type": "code",
   "execution_count": null,
   "metadata": {
    "collapsed": true
   },
   "outputs": [],
   "source": [
    "start = clock()\n",
    "nbody_4(100, 'sun', 20000)\n",
    "end = clock()\n",
    "print(\"nbody_4: \",end - start)"
   ]
  },
  {
   "cell_type": "code",
   "execution_count": null,
   "metadata": {
    "collapsed": true
   },
   "outputs": [],
   "source": [
    "start = clock()\n",
    "nbody_opt(100, 'sun', 20000)\n",
    "end = clock()\n",
    "print(\"nbody_opt: \",end - start)"
   ]
  }
 ],
 "metadata": {
  "anaconda-cloud": {},
  "kernelspec": {
   "display_name": "Python [conda root]",
   "language": "python",
   "name": "conda-root-py"
  },
  "language_info": {
   "codemirror_mode": {
    "name": "ipython",
    "version": 3
   },
   "file_extension": ".py",
   "mimetype": "text/x-python",
   "name": "python",
   "nbconvert_exporter": "python",
   "pygments_lexer": "ipython3",
   "version": "3.5.2"
  }
 },
 "nbformat": 4,
 "nbformat_minor": 1
}
