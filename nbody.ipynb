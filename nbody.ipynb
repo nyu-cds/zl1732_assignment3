{
 "cells": [
  {
   "cell_type": "code",
   "execution_count": 1,
   "metadata": {
    "collapsed": true
   },
   "outputs": [],
   "source": [
    "from nbody import *\n",
    "from nbody_1 import *\n",
    "from nbody_2 import *\n",
    "from nbody_3 import *\n",
    "from nbody_4 import *\n",
    "from nbody_opt import *\n",
    "from time import clock"
   ]
  },
  {
   "cell_type": "code",
   "execution_count": null,
   "metadata": {
    "collapsed": true
   },
   "outputs": [],
   "source": [
    "start = clock()\n",
    "nbody(100, 'sun', 20000)\n",
    "end = clock()\n",
    "print(\"nbody: \",end - start)"
   ]
  },
  {
   "cell_type": "code",
   "execution_count": null,
   "metadata": {
    "collapsed": true
   },
   "outputs": [],
   "source": [
    "start = clock()\n",
    "nbody_1(100, 'sun', 20000)\n",
    "end = clock()\n",
    "print(\"nbody_1: \",end - start)"
   ]
  },
  {
   "cell_type": "code",
   "execution_count": null,
   "metadata": {
    "collapsed": true
   },
   "outputs": [],
   "source": [
    "start = clock()\n",
    "nbody_2(100, 'sun', 20000)\n",
    "end = clock()\n",
    "print(\"nbody_2: \",end - start)"
   ]
  },
  {
   "cell_type": "code",
   "execution_count": null,
   "metadata": {
    "collapsed": true
   },
   "outputs": [],
   "source": [
    "start = clock()\n",
    "nbody_3(100, 'sun', 20000)\n",
    "end = clock()\n",
    "print(\"nbody_3: \",end - start)"
   ]
  },
  {
   "cell_type": "code",
   "execution_count": null,
   "metadata": {
    "collapsed": true
   },
   "outputs": [],
   "source": [
    "start = clock()\n",
    "nbody_4(100, 'sun', 20000)\n",
    "end = clock()\n",
    "print(\"nbody_4: \",end - start)"
   ]
  },
  {
   "cell_type": "code",
   "execution_count": null,
   "metadata": {
    "collapsed": true
   },
   "outputs": [],
   "source": [
    "start = clock()\n",
    "nbody_opt(100, 'sun', 20000)\n",
    "end = clock()\n",
    "print(\"nbody_opt: \",end - start)"
   ]
  },
  {
   "cell_type": "code",
   "execution_count": 1,
   "metadata": {
    "collapsed": true
   },
   "outputs": [],
   "source": [
    "from nbody_opt import *"
   ]
  },
  {
   "cell_type": "code",
   "execution_count": 4,
   "metadata": {
    "collapsed": false
   },
   "outputs": [
    {
     "name": "stdout",
     "output_type": "stream",
     "text": [
      "-0.16908926275527372\n",
      "-0.16905240492391263\n",
      "-0.16901474404529784\n",
      "-0.16902307738080793\n",
      "-0.16907985939166537\n",
      "-0.16908378513402936\n",
      "-0.16904612370293998\n",
      "-0.16901416322875615\n",
      "-0.16902778605966998\n",
      "-0.16908371256964086\n",
      "-0.16908078067628768\n",
      "-0.16904474158018165\n",
      "-0.1690119640320804\n",
      "-0.16903317301080453\n",
      "-0.16908783999484334\n",
      "-0.16908019793584766\n",
      "-0.1690402712372209\n",
      "-0.16900666759843225\n",
      "-0.1690385994000741\n",
      "-0.16909278202633157\n",
      "-0.16907709741615679\n",
      "-0.16903181574741807\n",
      "-0.16900365578740972\n",
      "-0.1690487240030837\n",
      "-0.1690965666661604\n",
      "-0.169071207393966\n",
      "-0.16902491372611075\n",
      "-0.1690054028562567\n",
      "-0.1690615084418824\n",
      "-0.16909732952329254\n",
      "-0.16906445026912126\n",
      "-0.16901977601922613\n",
      "-0.16900878373305062\n",
      "-0.1690694299609083\n",
      "-0.16909369812504715\n",
      "-0.16905776550850232\n",
      "-0.16901607122931234\n",
      "-0.16901202092859477\n",
      "-0.16907695909883536\n",
      "-0.169091769669122\n",
      "-0.1690540204053014\n",
      "-0.1690123590992114\n",
      "-0.16901736033368683\n",
      "-0.16908474596853\n",
      "-0.1690903553467066\n",
      "-0.16904838452873333\n",
      "-0.16900663034069624\n",
      "-0.16902335367421623\n",
      "-0.16909124149507468\n",
      "-0.16908618459851982\n",
      "-0.16904015517536697\n",
      "-0.1690029192354907\n",
      "-0.16903287494400904\n",
      "-0.16909558331067964\n",
      "-0.16908055117112372\n",
      "-0.16903390308610766\n",
      "-0.16900274590715195\n",
      "-0.16904459300213354\n",
      "-0.16909854774646255\n",
      "-0.16907499697388542\n",
      "-0.16902883385610704\n",
      "-0.16900287426058413\n",
      "-0.16905344993901353\n",
      "-0.16909778695822683\n",
      "-0.1690688542354652\n",
      "-0.1690228851712611\n",
      "-0.16900341116391396\n",
      "-0.16906323202825907\n",
      "-0.16909793327530273\n",
      "-0.16906372791447555\n",
      "-0.16901758963649458\n",
      "-0.16900762655229082\n",
      "-0.16907413362659202\n",
      "-0.16909667012754726\n",
      "-0.1690571525383123\n",
      "-0.16901176533641962\n",
      "-0.1690131654189086\n",
      "-0.16908223578131268\n",
      "-0.16909188428378658\n",
      "-0.16904915672885898\n",
      "-0.16900844836246592\n",
      "-0.16902057135975987\n",
      "-0.16908716660204404\n",
      "-0.16908658831405127\n",
      "-0.1690441211692187\n",
      "-0.1690074067381699\n",
      "-0.16902932050678948\n",
      "-0.1690918027628035\n",
      "-0.16908292959394658\n",
      "-0.16903991544248628\n",
      "-0.16900522540595816\n",
      "-0.1690365677366965\n",
      "-0.16909410318888893\n",
      "-0.16907846621161496\n",
      "-0.16903274720860773\n",
      "-0.16900284987915984\n",
      "-0.16904628075120404\n",
      "-0.16909717678663405\n",
      "-0.16907293588679204\n",
      "-0.1690262858528094\n",
      "31.724513333333334\n"
     ]
    }
   ],
   "source": [
    "from timeit import timeit\n",
    "print(timeit(\"nbody(100, 'sun', 20000)\", setup=\"from __main__ import nbody\", number=1))"
   ]
  },
  {
   "cell_type": "code",
   "execution_count": 5,
   "metadata": {
    "collapsed": false
   },
   "outputs": [
    {
     "ename": "NameError",
     "evalue": "name 'python' is not defined",
     "output_type": "error",
     "traceback": [
      "\u001b[0;31m---------------------------------------------------------------------------\u001b[0m",
      "\u001b[0;31mNameError\u001b[0m                                 Traceback (most recent call last)",
      "\u001b[0;32m<ipython-input-5-9ba653b805d6>\u001b[0m in \u001b[0;36m<module>\u001b[0;34m()\u001b[0m\n\u001b[0;32m----> 1\u001b[0;31m \u001b[0mpython\u001b[0m\u001b[1;33m\u001b[0m\u001b[0m\n\u001b[0m",
      "\u001b[0;31mNameError\u001b[0m: name 'python' is not defined"
     ]
    }
   ],
   "source": [
    "python "
   ]
  }
 ],
 "metadata": {
  "anaconda-cloud": {},
  "kernelspec": {
   "display_name": "Python [conda root]",
   "language": "python",
   "name": "conda-root-py"
  },
  "language_info": {
   "codemirror_mode": {
    "name": "ipython",
    "version": 3
   },
   "file_extension": ".py",
   "mimetype": "text/x-python",
   "name": "python",
   "nbconvert_exporter": "python",
   "pygments_lexer": "ipython3",
   "version": "3.5.2"
  }
 },
 "nbformat": 4,
 "nbformat_minor": 1
}
