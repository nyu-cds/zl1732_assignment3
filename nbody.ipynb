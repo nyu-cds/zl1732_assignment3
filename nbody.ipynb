{
 "cells": [
  {
   "cell_type": "code",
   "execution_count": 1,
   "metadata": {
    "collapsed": false
   },
   "outputs": [
    {
     "name": "stdout",
     "output_type": "stream",
     "text": [
      "-0.169089262755\n",
      "-0.169052404924\n",
      "-0.169014744045\n",
      "-0.169023077381\n",
      "-0.169079859392\n",
      "-0.169083785134\n",
      "-0.169046123703\n",
      "-0.169014163229\n",
      "-0.16902778606\n",
      "-0.16908371257\n",
      "26.27762667330386\n"
     ]
    }
   ],
   "source": [
    "from nbody_numba import *\n",
    "from timeit import timeit\n",
    "print(timeit(lambda:nbody(10, 'sun', 20000),number=1))"
   ]
  }
 ],
 "metadata": {
  "anaconda-cloud": {},
  "kernelspec": {
   "display_name": "Python 3",
   "language": "python",
   "name": "python3"
  },
  "language_info": {
   "codemirror_mode": {
    "name": "ipython",
    "version": 3
   },
   "file_extension": ".py",
   "mimetype": "text/x-python",
   "name": "python",
   "nbconvert_exporter": "python",
   "pygments_lexer": "ipython3",
   "version": "3.6.0"
  }
 },
 "nbformat": 4,
 "nbformat_minor": 1
}
