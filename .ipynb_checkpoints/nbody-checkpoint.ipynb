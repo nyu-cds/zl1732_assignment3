{
 "cells": [
  {
   "cell_type": "code",
   "execution_count": 1,
   "metadata": {
    "collapsed": true
   },
   "outputs": [],
   "source": [
    "from nbody import *\n",
    "from nbody_1 import *\n",
    "from nbody_2 import *\n",
    "from nbody_3 import *\n",
    "from nbody_4 import *\n",
    "from nbody_opt import *\n",
    "from time import clock"
   ]
  },
  {
   "cell_type": "code",
   "execution_count": null,
   "metadata": {
    "collapsed": true
   },
   "outputs": [],
   "source": [
    "start = clock()\n",
    "nbody(100, 'sun', 20000)\n",
    "end = clock()\n",
    "print(\"nbody: \",end - start)"
   ]
  },
  {
   "cell_type": "code",
   "execution_count": null,
   "metadata": {
    "collapsed": true
   },
   "outputs": [],
   "source": [
    "start = clock()\n",
    "nbody_1(100, 'sun', 20000)\n",
    "end = clock()\n",
    "print(\"nbody_1: \",end - start)"
   ]
  },
  {
   "cell_type": "code",
   "execution_count": null,
   "metadata": {
    "collapsed": true
   },
   "outputs": [],
   "source": [
    "start = clock()\n",
    "nbody_2(100, 'sun', 20000)\n",
    "end = clock()\n",
    "print(\"nbody_2: \",end - start)"
   ]
  },
  {
   "cell_type": "code",
   "execution_count": null,
   "metadata": {
    "collapsed": true
   },
   "outputs": [],
   "source": [
    "start = clock()\n",
    "nbody_3(100, 'sun', 20000)\n",
    "end = clock()\n",
    "print(\"nbody_3: \",end - start)"
   ]
  },
  {
   "cell_type": "code",
   "execution_count": null,
   "metadata": {
    "collapsed": true
   },
   "outputs": [],
   "source": [
    "start = clock()\n",
    "nbody_4(100, 'sun', 20000)\n",
    "end = clock()\n",
    "print(\"nbody_4: \",end - start)"
   ]
  },
  {
   "cell_type": "code",
   "execution_count": null,
   "metadata": {
    "collapsed": true
   },
   "outputs": [],
   "source": [
    "start = clock()\n",
    "nbody_opt(100, 'sun', 20000)\n",
    "end = clock()\n",
    "print(\"nbody_opt: \",end - start)"
   ]
  },
  {
   "cell_type": "code",
   "execution_count": 2,
   "metadata": {
    "collapsed": false
   },
   "outputs": [],
   "source": [
    "from nbody_opt import *"
   ]
  },
  {
   "cell_type": "code",
   "execution_count": 8,
   "metadata": {
    "collapsed": false
   },
   "outputs": [
    {
     "ename": "ValueError",
     "evalue": "one or both of the input are not number!",
     "output_type": "error",
     "traceback": [
      "\u001b[0;31m---------------------------------------------------------------------------\u001b[0m",
      "\u001b[0;31mValueError\u001b[0m                                Traceback (most recent call last)",
      "\u001b[0;32mE:\\Spring_2017\\advpy\\zl1732_assignment3\\binary.py\u001b[0m in \u001b[0;36mzbits\u001b[0;34m(n, k)\u001b[0m\n\u001b[1;32m      3\u001b[0m     '''\n\u001b[0;32m----> 4\u001b[0;31m     \u001b[1;36m1\u001b[0m\u001b[1;33m,\u001b[0m \u001b[0mImport\u001b[0m \u001b[0mthe\u001b[0m \u001b[0mpermutations\u001b[0m \u001b[0mtool\u001b[0m \u001b[1;32mfrom\u001b[0m \u001b[0mitertools\u001b[0m\u001b[1;33m\u001b[0m\u001b[0m\n\u001b[0m\u001b[1;32m      5\u001b[0m \u001b[1;33m\u001b[0m\u001b[0m\n",
      "\u001b[0;31mValueError\u001b[0m: invalid literal for int() with base 10: 'd'",
      "\nDuring handling of the above exception, another exception occurred:\n",
      "\u001b[0;31mValueError\u001b[0m                                Traceback (most recent call last)",
      "\u001b[0;32m<ipython-input-8-4bb03111b125>\u001b[0m in \u001b[0;36m<module>\u001b[0;34m()\u001b[0m\n\u001b[1;32m      1\u001b[0m \u001b[1;32mfrom\u001b[0m \u001b[0mbinary\u001b[0m \u001b[1;32mimport\u001b[0m \u001b[1;33m*\u001b[0m\u001b[1;33m\u001b[0m\u001b[0m\n\u001b[0;32m----> 2\u001b[0;31m \u001b[0mzbits\u001b[0m\u001b[1;33m(\u001b[0m\u001b[1;34m\"d\"\u001b[0m\u001b[1;33m,\u001b[0m\u001b[1;34m\"d\"\u001b[0m\u001b[1;33m)\u001b[0m\u001b[1;33m\u001b[0m\u001b[0m\n\u001b[0m",
      "\u001b[0;32mE:\\Spring_2017\\advpy\\zl1732_assignment3\\binary.py\u001b[0m in \u001b[0;36mzbits\u001b[0;34m(n, k)\u001b[0m\n\u001b[1;32m      4\u001b[0m     \u001b[1;36m1\u001b[0m\u001b[1;33m,\u001b[0m \u001b[0mImport\u001b[0m \u001b[0mthe\u001b[0m \u001b[0mpermutations\u001b[0m \u001b[0mtool\u001b[0m \u001b[1;32mfrom\u001b[0m \u001b[0mitertools\u001b[0m\u001b[1;33m\u001b[0m\u001b[0m\n\u001b[1;32m      5\u001b[0m \u001b[1;33m\u001b[0m\u001b[0m\n\u001b[0;32m----> 6\u001b[0;31m     \u001b[1;36m2\u001b[0m\u001b[1;33m,\u001b[0m \u001b[0mcheck\u001b[0m \u001b[0mthe\u001b[0m \u001b[0mcorrectness\u001b[0m \u001b[0mof\u001b[0m \u001b[0mn\u001b[0m \u001b[1;32mand\u001b[0m \u001b[0mk\u001b[0m\u001b[1;33m\u001b[0m\u001b[0m\n\u001b[0m\u001b[1;32m      7\u001b[0m       1) check both inputs are not string or other types\n\u001b[1;32m      8\u001b[0m       2) check both inputs are integers\n",
      "\u001b[0;31mValueError\u001b[0m: one or both of the input are not number!"
     ]
    }
   ],
   "source": [
    "from binary import *\n",
    "zbits(\"d\",\"d\")"
   ]
  },
  {
   "cell_type": "code",
   "execution_count": 6,
   "metadata": {
    "collapsed": false
   },
   "outputs": [
    {
     "data": {
      "text/plain": [
       "{'each'}"
      ]
     },
     "execution_count": 6,
     "metadata": {},
     "output_type": "execute_result"
    }
   ],
   "source": [
    "result = set()\n",
    "n = 5\n",
    "k=2\n",
    "database = \"1\"*(n-k)+\"0\"*k\n",
    "result = set()\n",
    "result.add(''.join(\"each\"))\n",
    "result.add(''.join(\"each\"))\n",
    "result.add(''.join(\"each\"))\n",
    "result"
   ]
  },
  {
   "cell_type": "code",
   "execution_count": 7,
   "metadata": {
    "collapsed": false
   },
   "outputs": [],
   "source": [
    "assert zbits(4, 1) == {'0111', '1011', '1101', '1110'}"
   ]
  }
 ],
 "metadata": {
  "anaconda-cloud": {},
  "kernelspec": {
   "display_name": "Python [conda root]",
   "language": "python",
   "name": "conda-root-py"
  },
  "language_info": {
   "codemirror_mode": {
    "name": "ipython",
    "version": 3
   },
   "file_extension": ".py",
   "mimetype": "text/x-python",
   "name": "python",
   "nbconvert_exporter": "python",
   "pygments_lexer": "ipython3",
   "version": "3.5.2"
  }
 },
 "nbformat": 4,
 "nbformat_minor": 1
}
