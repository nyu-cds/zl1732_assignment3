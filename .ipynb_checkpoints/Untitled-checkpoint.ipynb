{
 "cells": [
  {
   "cell_type": "code",
   "execution_count": 2,
   "metadata": {
    "collapsed": false
   },
   "outputs": [
    {
     "name": "stdout",
     "output_type": "stream",
     "text": [
      "-0.16908926275526834\n",
      "-0.16905240492391385\n",
      "nbody time: 8.062528500025337\n"
     ]
    }
   ],
   "source": [
    "from time import clock\n",
    "from nbody import *\n",
    "from nbody1 import *\n",
    "from nbody2 import *\n",
    "from nbody3 import *\n",
    "from nbody4 import *\n",
    "from nbody_opt import *\n",
    "\n",
    "start = clock()\n",
    "nbody(2, 'sun', 20000)\n",
    "end = clock()\n",
    "print(\"nbody time:\",end-start)"
   ]
  },
  {
   "cell_type": "code",
   "execution_count": 3,
   "metadata": {
    "collapsed": false
   },
   "outputs": [
    {
     "name": "stdout",
     "output_type": "stream",
     "text": [
      "-0.16908926275527625\n",
      "-0.16905240492391713\n",
      "nbody1 time: 3.1533054696048737\n"
     ]
    }
   ],
   "source": [
    "start = clock()\n",
    "nbody1(2, 'sun', 20000)\n",
    "end = clock()\n",
    "print(\"nbody1 time:\",end-start)"
   ]
  },
  {
   "cell_type": "code",
   "execution_count": null,
   "metadata": {
    "collapsed": true
   },
   "outputs": [],
   "source": [
    "start = clock()\n",
    "nbody2(2, 'sun', 20000)\n",
    "end = clock()\n",
    "print(\"nbody2 time:\",end-start)"
   ]
  },
  {
   "cell_type": "code",
   "execution_count": null,
   "metadata": {
    "collapsed": true
   },
   "outputs": [],
   "source": [
    "start = clock()\n",
    "nbody3(2, 'sun', 20000)\n",
    "end = clock()\n",
    "print(\"nbody3 time:\",end-start)"
   ]
  },
  {
   "cell_type": "code",
   "execution_count": null,
   "metadata": {
    "collapsed": true
   },
   "outputs": [],
   "source": [
    "start = clock()\n",
    "nbody4(2, 'sun', 20000)\n",
    "end = clock()\n",
    "print(\"nbody4 time:\",end-start)"
   ]
  },
  {
   "cell_type": "code",
   "execution_count": 1,
   "metadata": {
    "collapsed": false
   },
   "outputs": [
    {
     "name": "stdout",
     "output_type": "stream",
     "text": [
      "-0.1690892627552746\n",
      "-0.1690524049239112\n",
      "nbody_opt time: 2.438551945379507\n"
     ]
    }
   ],
   "source": [
    "start = clock()\n",
    "nbody_opt(2, 'sun', 20000)\n",
    "end = clock()\n",
    "print(\"nbody_opt time:\",end-start)"
   ]
  }
 ],
 "metadata": {
  "anaconda-cloud": {},
  "kernelspec": {
   "display_name": "Python [conda root]",
   "language": "python",
   "name": "conda-root-py"
  },
  "language_info": {
   "codemirror_mode": {
    "name": "ipython",
    "version": 3
   },
   "file_extension": ".py",
   "mimetype": "text/x-python",
   "name": "python",
   "nbconvert_exporter": "python",
   "pygments_lexer": "ipython3",
   "version": "3.5.2"
  }
 },
 "nbformat": 4,
 "nbformat_minor": 1
}
